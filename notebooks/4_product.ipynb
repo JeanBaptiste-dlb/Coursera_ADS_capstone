{
 "cells": [
  {
   "cell_type": "code",
   "execution_count": 1,
   "metadata": {},
   "outputs": [
    {
     "name": "stdout",
     "output_type": "stream",
     "text": [
      "/home/broise/tmp_projects/fb_impact\n"
     ]
    }
   ],
   "source": [
    "%cd .."
   ]
  },
  {
   "cell_type": "code",
   "execution_count": 2,
   "metadata": {},
   "outputs": [],
   "source": [
    "from app.src.core.manager import app"
   ]
  },
  {
   "cell_type": "code",
   "execution_count": 3,
   "metadata": {},
   "outputs": [],
   "source": [
    "fabricated_example_unknown_page = [\n",
    "    {\n",
    "        \"Page total likes\": 200,\n",
    "        \"Type\": \"Photo\",\n",
    "        \"Category\": 1,\n",
    "        \"Paid\": 0.0,\n",
    "        \"Post Month\": 10,\n",
    "        \"Post Weekday\": 7,\n",
    "        \"Post Hour\": 10,\n",
    "        \"Lifetime Post Total Reach\": 40,\n",
    "        \"Lifetime Post Total Impressions\": 45,\n",
    "        \"Lifetime Engaged Users\": 10,\n",
    "        \"Lifetime Post Consumers\": 10,\n",
    "        \"Lifetime Post Consumptions\": 510,\n",
    "        \"Lifetime Post Impressions by people who have liked your Page\": 20,\n",
    "        \"Lifetime Post reach by people who like your Page\": 12,\n",
    "        \"Lifetime People who have liked your Page and engaged with your post\": 20,\n",
    "    }\n",
    "]"
   ]
  },
  {
   "cell_type": "code",
   "execution_count": 4,
   "metadata": {},
   "outputs": [
    {
     "name": "stderr",
     "output_type": "stream",
     "text": [
      "1it [00:00,  2.00it/s]\n"
     ]
    },
    {
     "data": {
      "text/plain": [
       "0.29583514"
      ]
     },
     "execution_count": 4,
     "metadata": {},
     "output_type": "execute_result"
    }
   ],
   "source": [
    "app(fabricated_example_unknown_page)[0]"
   ]
  },
  {
   "cell_type": "code",
   "execution_count": 5,
   "metadata": {},
   "outputs": [
    {
     "name": "stderr",
     "output_type": "stream",
     "text": [
      "1it [00:00, 144.69it/s]\n"
     ]
    },
    {
     "data": {
      "text/plain": [
       "0.881881"
      ]
     },
     "execution_count": 5,
     "metadata": {},
     "output_type": "execute_result"
    }
   ],
   "source": [
    "fabricated_example_famous_page = [\n",
    "    {\n",
    "        \"Page total likes\": 2000000,\n",
    "        \"Type\": \"Photo\",\n",
    "        \"Category\": 1,\n",
    "        \"Paid\": 0.0,\n",
    "        \"Post Month\": 10,\n",
    "        \"Post Weekday\": 5,\n",
    "        \"Post Hour\": 14,\n",
    "        \"Lifetime Post Total Reach\": 2000000,\n",
    "        \"Lifetime Post Total Impressions\": 2000000,\n",
    "        \"Lifetime Engaged Users\": 2000000,\n",
    "        \"Lifetime Post Consumers\": 2000000,\n",
    "        \"Lifetime Post Consumptions\": 2,\n",
    "        \"Lifetime Post Impressions by people who have liked your Page\": 2000000,\n",
    "        \"Lifetime Post reach by people who like your Page\": 2000000,\n",
    "        \"Lifetime People who have liked your Page and engaged with your post\": 2000000,\n",
    "    }\n",
    "]\n",
    "app(fabricated_example_famous_page)[0]"
   ]
  },
  {
   "cell_type": "code",
   "execution_count": null,
   "metadata": {},
   "outputs": [],
   "source": []
  }
 ],
 "metadata": {
  "kernelspec": {
   "display_name": ".venv",
   "language": "python",
   "name": "python3"
  },
  "language_info": {
   "codemirror_mode": {
    "name": "ipython",
    "version": 3
   },
   "file_extension": ".py",
   "mimetype": "text/x-python",
   "name": "python",
   "nbconvert_exporter": "python",
   "pygments_lexer": "ipython3",
   "version": "3.9.15"
  },
  "orig_nbformat": 4
 },
 "nbformat": 4,
 "nbformat_minor": 2
}
